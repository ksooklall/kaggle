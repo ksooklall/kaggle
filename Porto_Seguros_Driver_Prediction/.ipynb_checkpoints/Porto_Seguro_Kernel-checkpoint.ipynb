{
 "cells": [
  {
   "cell_type": "markdown",
   "metadata": {},
   "source": [
    "# Porto Seguro's Safe Driver Prediction"
   ]
  },
  {
   "cell_type": "code",
   "execution_count": 101,
   "metadata": {},
   "outputs": [],
   "source": [
    "from keras.datasets import mnist\n",
    "from keras import optimizers\n",
    "from keras.models import Model, load_model, Sequential\n",
    "from keras.layers import Input, Dense\n",
    "from keras import regularizers\n",
    "from keras.callbacks import ModelCheckpoint\n",
    "\n",
    "import matplotlib.pyplot as plt\n",
    "import pandas as pd\n",
    "import numpy as np\n",
    "import time\n",
    "\n",
    "from sklearn.model_selection import train_test_split\n",
    "from sklearn.preprocessing import StandardScaler"
   ]
  },
  {
   "cell_type": "markdown",
   "metadata": {},
   "source": [
    "### Load data"
   ]
  },
  {
   "cell_type": "code",
   "execution_count": 2,
   "metadata": {
    "collapsed": true
   },
   "outputs": [],
   "source": [
    "train_df = pd.read_csv('train.csv')\n",
    "test_df = pd.read_csv('test.csv')"
   ]
  },
  {
   "cell_type": "code",
   "execution_count": 3,
   "metadata": {},
   "outputs": [
    {
     "data": {
      "text/plain": [
       "count    595212.000000\n",
       "mean          0.036448\n",
       "std           0.187401\n",
       "min           0.000000\n",
       "25%           0.000000\n",
       "50%           0.000000\n",
       "75%           0.000000\n",
       "max           1.000000\n",
       "Name: target, dtype: float64"
      ]
     },
     "execution_count": 3,
     "metadata": {},
     "output_type": "execute_result"
    }
   ],
   "source": [
    "train_df['target'].describe()"
   ]
  },
  {
   "cell_type": "code",
   "execution_count": 4,
   "metadata": {
    "collapsed": true
   },
   "outputs": [],
   "source": [
    "Non_claimed = train_df['target'].sum()\n",
    "claimed = len(train_df) - Non_claimed"
   ]
  },
  {
   "cell_type": "code",
   "execution_count": 5,
   "metadata": {},
   "outputs": [
    {
     "name": "stdout",
     "output_type": "stream",
     "text": [
      "Non-claimed: 21694\n",
      "Claimed: 573518\n",
      "Ratio Claimed/Non-claimed: 3.78%\n"
     ]
    }
   ],
   "source": [
    "print('Non-claimed: {}'.format(Non_claimed))\n",
    "print('Claimed: {}'.format(claimed))\n",
    "print('Ratio Claimed/Non-claimed: {:0.3}%'.format(Non_claimed/claimed*100))"
   ]
  },
  {
   "cell_type": "code",
   "execution_count": 6,
   "metadata": {},
   "outputs": [
    {
     "data": {
      "image/png": "[encoded data removed]",
      "text/plain": [
       "<matplotlib.figure.Figure at 0x7ff5642ea7b8>"
      ]
     },
     "metadata": {},
     "output_type": "display_data"
    }
   ],
   "source": [
    "counts = pd.value_counts(train_df['target'])\n",
    "counts.plot(kind='bar')\n",
    "plt.show()"
   ]
  },
  {
   "cell_type": "code",
   "execution_count": 7,
   "metadata": {
    "collapsed": true
   },
   "outputs": [],
   "source": [
    "train_df[train_df == -1] = np.nan"
   ]
  },
  {
   "cell_type": "code",
   "execution_count": 8,
   "metadata": {
    "collapsed": true
   },
   "outputs": [],
   "source": [
    "fill_cols = ['ps_ind_02_cat', 'ps_ind_04_cat', 'ps_car_01_cat', 'ps_car_02_cat', 'ps_car_11', 'ps_car_12']\n",
    "mean_series = train_df[fill_cols].mean()"
   ]
  },
  {
   "cell_type": "code",
   "execution_count": 9,
   "metadata": {
    "collapsed": true
   },
   "outputs": [],
   "source": [
    "train_df[fill_cols] = train_df[fill_cols].fillna(mean_series)"
   ]
  },
  {
   "cell_type": "code",
   "execution_count": 10,
   "metadata": {
    "collapsed": true
   },
   "outputs": [],
   "source": [
    "train_df = train_df.dropna(axis=1)\n",
    "assert train_df.isnull().sum().sum() == 0"
   ]
  },
  {
   "cell_type": "code",
   "execution_count": 11,
   "metadata": {},
   "outputs": [
    {
     "data": {
      "text/plain": [
       "['ps_car_15',\n",
       " 'ps_calc_07',\n",
       " 'ps_ind_18_bin',\n",
       " 'ps_ind_04_cat',\n",
       " 'ps_ind_08_bin',\n",
       " 'ps_calc_01',\n",
       " 'ps_calc_13',\n",
       " 'ps_car_11',\n",
       " 'ps_calc_02',\n",
       " 'ps_car_08_cat']"
      ]
     },
     "execution_count": 11,
     "metadata": {},
     "output_type": "execute_result"
    }
   ],
   "source": [
    "# Skewed cols, check ps_calc_06\n",
    "skewed_cols = [\"ps_ind_10_bin\",\"ps_ind_11_bin\",\"ps_ind_12_bin\",\"ps_ind_13_bin\", \"ps_car_11_cat\"]\n",
    "full_cols = train_df.columns\n",
    "train_cols = list(set(full_cols).difference(skewed_cols))\n",
    "train_cols[:10]"
   ]
  },
  {
   "cell_type": "code",
   "execution_count": 12,
   "metadata": {
    "collapsed": true
   },
   "outputs": [],
   "source": [
    "static_cols = ['target', 'id']"
   ]
  },
  {
   "cell_type": "code",
   "execution_count": 13,
   "metadata": {},
   "outputs": [],
   "source": [
    "full_train_df = train_df[train_cols]"
   ]
  },
  {
   "cell_type": "code",
   "execution_count": 14,
   "metadata": {},
   "outputs": [
    {
     "data": {
      "text/plain": [
       "['ps_car_15',\n",
       " 'ps_calc_07',\n",
       " 'ps_ind_18_bin',\n",
       " 'ps_ind_04_cat',\n",
       " 'ps_ind_08_bin',\n",
       " 'ps_calc_01',\n",
       " 'ps_calc_13',\n",
       " 'ps_car_11',\n",
       " 'ps_calc_02',\n",
       " 'ps_car_08_cat']"
      ]
     },
     "execution_count": 14,
     "metadata": {},
     "output_type": "execute_result"
    }
   ],
   "source": [
    "preprocess_cols = list(set(train_cols).difference(static_cols))\n",
    "preprocess_cols[:10]"
   ]
  },
  {
   "cell_type": "code",
   "execution_count": 15,
   "metadata": {},
   "outputs": [
    {
     "data": {
      "image/png": "[encoded data removed]",
      "text/plain": [
       "<matplotlib.figure.Figure at 0x7ff5642d1a20>"
      ]
     },
     "metadata": {},
     "output_type": "display_data"
    }
   ],
   "source": [
    "full_train_df.boxplot(column=preprocess_cols, figsize=(15, 10), rot=90, return_type='dict')\n",
    "plt.show()"
   ]
  },
  {
   "cell_type": "code",
   "execution_count": 46,
   "metadata": {
    "collapsed": true
   },
   "outputs": [
    {
     "ename": "KeyError",
     "evalue": "'[11  3 12 ..., 12 12  7] not in index'",
     "output_type": "error",
     "traceback": [
      "\u001b[0;31m---------------------------------------------------------------------------\u001b[0m",
      "\u001b[0;31mKeyError\u001b[0m                                  Traceback (most recent call last)",
      "\u001b[0;32m<ipython-input-46-fc9cf959f999>\u001b[0m in \u001b[0;36m<module>\u001b[0;34m()\u001b[0m\n\u001b[0;32m----> 1\u001b[0;31m \u001b[0mfull_train_df\u001b[0m\u001b[0;34m.\u001b[0m\u001b[0mplot\u001b[0m\u001b[0;34m.\u001b[0m\u001b[0mscatter\u001b[0m\u001b[0;34m(\u001b[0m\u001b[0mfull_train_df\u001b[0m\u001b[0;34m[\u001b[0m\u001b[0;34m'ps_ind_15'\u001b[0m\u001b[0;34m]\u001b[0m\u001b[0;34m,\u001b[0m \u001b[0mfull_train_df\u001b[0m\u001b[0;34m[\u001b[0m\u001b[0;34m'ps_calc_06'\u001b[0m\u001b[0;34m]\u001b[0m\u001b[0;34m,\u001b[0m \u001b[0mc\u001b[0m\u001b[0;34m=\u001b[0m\u001b[0mtrain_df\u001b[0m\u001b[0;34m[\u001b[0m\u001b[0;34m'target'\u001b[0m\u001b[0;34m]\u001b[0m\u001b[0;34m)\u001b[0m\u001b[0;34m\u001b[0m\u001b[0m\n\u001b[0m\u001b[1;32m      2\u001b[0m \u001b[0mplt\u001b[0m\u001b[0;34m.\u001b[0m\u001b[0mshow\u001b[0m\u001b[0;34m(\u001b[0m\u001b[0;34m)\u001b[0m\u001b[0;34m\u001b[0m\u001b[0m\n",
      "\u001b[0;32m~/anaconda3/envs/aind-dog/lib/python3.6/site-packages/pandas/plotting/_core.py\u001b[0m in \u001b[0;36mscatter\u001b[0;34m(self, x, y, s, c, **kwds)\u001b[0m\n\u001b[1;32m   2803\u001b[0m         \u001b[0maxes\u001b[0m \u001b[0;34m:\u001b[0m \u001b[0mmatplotlib\u001b[0m\u001b[0;34m.\u001b[0m\u001b[0mAxesSubplot\u001b[0m \u001b[0;32mor\u001b[0m \u001b[0mnp\u001b[0m\u001b[0;34m.\u001b[0m\u001b[0marray\u001b[0m \u001b[0mof\u001b[0m \u001b[0mthem\u001b[0m\u001b[0;34m\u001b[0m\u001b[0m\n\u001b[1;32m   2804\u001b[0m         \"\"\"\n\u001b[0;32m-> 2805\u001b[0;31m         \u001b[0;32mreturn\u001b[0m \u001b[0mself\u001b[0m\u001b[0;34m(\u001b[0m\u001b[0mkind\u001b[0m\u001b[0;34m=\u001b[0m\u001b[0;34m'scatter'\u001b[0m\u001b[0;34m,\u001b[0m \u001b[0mx\u001b[0m\u001b[0;34m=\u001b[0m\u001b[0mx\u001b[0m\u001b[0;34m,\u001b[0m \u001b[0my\u001b[0m\u001b[0;34m=\u001b[0m\u001b[0my\u001b[0m\u001b[0;34m,\u001b[0m \u001b[0mc\u001b[0m\u001b[0;34m=\u001b[0m\u001b[0mc\u001b[0m\u001b[0;34m,\u001b[0m \u001b[0ms\u001b[0m\u001b[0;34m=\u001b[0m\u001b[0ms\u001b[0m\u001b[0;34m,\u001b[0m \u001b[0;34m**\u001b[0m\u001b[0mkwds\u001b[0m\u001b[0;34m)\u001b[0m\u001b[0;34m\u001b[0m\u001b[0m\n\u001b[0m\u001b[1;32m   2806\u001b[0m \u001b[0;34m\u001b[0m\u001b[0m\n\u001b[1;32m   2807\u001b[0m     def hexbin(self, x, y, C=None, reduce_C_function=None, gridsize=None,\n",
      "\u001b[0;32m~/anaconda3/envs/aind-dog/lib/python3.6/site-packages/pandas/plotting/_core.py\u001b[0m in \u001b[0;36m__call__\u001b[0;34m(self, x, y, kind, ax, subplots, sharex, sharey, layout, figsize, use_index, title, grid, legend, style, logx, logy, loglog, xticks, yticks, xlim, ylim, rot, fontsize, colormap, table, yerr, xerr, secondary_y, sort_columns, **kwds)\u001b[0m\n\u001b[1;32m   2625\u001b[0m                           \u001b[0mfontsize\u001b[0m\u001b[0;34m=\u001b[0m\u001b[0mfontsize\u001b[0m\u001b[0;34m,\u001b[0m \u001b[0mcolormap\u001b[0m\u001b[0;34m=\u001b[0m\u001b[0mcolormap\u001b[0m\u001b[0;34m,\u001b[0m \u001b[0mtable\u001b[0m\u001b[0;34m=\u001b[0m\u001b[0mtable\u001b[0m\u001b[0;34m,\u001b[0m\u001b[0;34m\u001b[0m\u001b[0m\n\u001b[1;32m   2626\u001b[0m                           \u001b[0myerr\u001b[0m\u001b[0;34m=\u001b[0m\u001b[0myerr\u001b[0m\u001b[0;34m,\u001b[0m \u001b[0mxerr\u001b[0m\u001b[0;34m=\u001b[0m\u001b[0mxerr\u001b[0m\u001b[0;34m,\u001b[0m \u001b[0msecondary_y\u001b[0m\u001b[0;34m=\u001b[0m\u001b[0msecondary_y\u001b[0m\u001b[0;34m,\u001b[0m\u001b[0;34m\u001b[0m\u001b[0m\n\u001b[0;32m-> 2627\u001b[0;31m                           sort_columns=sort_columns, **kwds)\n\u001b[0m\u001b[1;32m   2628\u001b[0m     \u001b[0m__call__\u001b[0m\u001b[0;34m.\u001b[0m\u001b[0m__doc__\u001b[0m \u001b[0;34m=\u001b[0m \u001b[0mplot_frame\u001b[0m\u001b[0;34m.\u001b[0m\u001b[0m__doc__\u001b[0m\u001b[0;34m\u001b[0m\u001b[0m\n\u001b[1;32m   2629\u001b[0m \u001b[0;34m\u001b[0m\u001b[0m\n",
      "\u001b[0;32m~/anaconda3/envs/aind-dog/lib/python3.6/site-packages/pandas/plotting/_core.py\u001b[0m in \u001b[0;36mplot_frame\u001b[0;34m(data, x, y, kind, ax, subplots, sharex, sharey, layout, figsize, use_index, title, grid, legend, style, logx, logy, loglog, xticks, yticks, xlim, ylim, rot, fontsize, colormap, table, yerr, xerr, secondary_y, sort_columns, **kwds)\u001b[0m\n\u001b[1;32m   1867\u001b[0m                  \u001b[0myerr\u001b[0m\u001b[0;34m=\u001b[0m\u001b[0myerr\u001b[0m\u001b[0;34m,\u001b[0m \u001b[0mxerr\u001b[0m\u001b[0;34m=\u001b[0m\u001b[0mxerr\u001b[0m\u001b[0;34m,\u001b[0m\u001b[0;34m\u001b[0m\u001b[0m\n\u001b[1;32m   1868\u001b[0m                  \u001b[0msecondary_y\u001b[0m\u001b[0;34m=\u001b[0m\u001b[0msecondary_y\u001b[0m\u001b[0;34m,\u001b[0m \u001b[0msort_columns\u001b[0m\u001b[0;34m=\u001b[0m\u001b[0msort_columns\u001b[0m\u001b[0;34m,\u001b[0m\u001b[0;34m\u001b[0m\u001b[0m\n\u001b[0;32m-> 1869\u001b[0;31m                  **kwds)\n\u001b[0m\u001b[1;32m   1870\u001b[0m \u001b[0;34m\u001b[0m\u001b[0m\n\u001b[1;32m   1871\u001b[0m \u001b[0;34m\u001b[0m\u001b[0m\n",
      "\u001b[0;32m~/anaconda3/envs/aind-dog/lib/python3.6/site-packages/pandas/plotting/_core.py\u001b[0m in \u001b[0;36m_plot\u001b[0;34m(data, x, y, subplots, ax, kind, **kwds)\u001b[0m\n\u001b[1;32m   1650\u001b[0m         \u001b[0;32mif\u001b[0m \u001b[0misinstance\u001b[0m\u001b[0;34m(\u001b[0m\u001b[0mdata\u001b[0m\u001b[0;34m,\u001b[0m \u001b[0mDataFrame\u001b[0m\u001b[0;34m)\u001b[0m\u001b[0;34m:\u001b[0m\u001b[0;34m\u001b[0m\u001b[0m\n\u001b[1;32m   1651\u001b[0m             plot_obj = klass(data, x=x, y=y, subplots=subplots, ax=ax,\n\u001b[0;32m-> 1652\u001b[0;31m                              kind=kind, **kwds)\n\u001b[0m\u001b[1;32m   1653\u001b[0m         \u001b[0;32melse\u001b[0m\u001b[0;34m:\u001b[0m\u001b[0;34m\u001b[0m\u001b[0m\n\u001b[1;32m   1654\u001b[0m             raise ValueError(\"plot kind %r can only be used for data frames\"\n",
      "\u001b[0;32m~/anaconda3/envs/aind-dog/lib/python3.6/site-packages/pandas/plotting/_core.py\u001b[0m in \u001b[0;36m__init__\u001b[0;34m(self, data, x, y, s, c, **kwargs)\u001b[0m\n\u001b[1;32m    808\u001b[0m             \u001b[0;31m# the handling of this argument later\u001b[0m\u001b[0;34m\u001b[0m\u001b[0;34m\u001b[0m\u001b[0m\n\u001b[1;32m    809\u001b[0m             \u001b[0ms\u001b[0m \u001b[0;34m=\u001b[0m \u001b[0;36m20\u001b[0m\u001b[0;34m\u001b[0m\u001b[0m\n\u001b[0;32m--> 810\u001b[0;31m         \u001b[0msuper\u001b[0m\u001b[0;34m(\u001b[0m\u001b[0mScatterPlot\u001b[0m\u001b[0;34m,\u001b[0m \u001b[0mself\u001b[0m\u001b[0;34m)\u001b[0m\u001b[0;34m.\u001b[0m\u001b[0m__init__\u001b[0m\u001b[0;34m(\u001b[0m\u001b[0mdata\u001b[0m\u001b[0;34m,\u001b[0m \u001b[0mx\u001b[0m\u001b[0;34m,\u001b[0m \u001b[0my\u001b[0m\u001b[0;34m,\u001b[0m \u001b[0ms\u001b[0m\u001b[0;34m=\u001b[0m\u001b[0ms\u001b[0m\u001b[0;34m,\u001b[0m \u001b[0;34m**\u001b[0m\u001b[0mkwargs\u001b[0m\u001b[0;34m)\u001b[0m\u001b[0;34m\u001b[0m\u001b[0m\n\u001b[0m\u001b[1;32m    811\u001b[0m         \u001b[0;32mif\u001b[0m \u001b[0mis_integer\u001b[0m\u001b[0;34m(\u001b[0m\u001b[0mc\u001b[0m\u001b[0;34m)\u001b[0m \u001b[0;32mand\u001b[0m \u001b[0;32mnot\u001b[0m \u001b[0mself\u001b[0m\u001b[0;34m.\u001b[0m\u001b[0mdata\u001b[0m\u001b[0;34m.\u001b[0m\u001b[0mcolumns\u001b[0m\u001b[0;34m.\u001b[0m\u001b[0mholds_integer\u001b[0m\u001b[0;34m(\u001b[0m\u001b[0;34m)\u001b[0m\u001b[0;34m:\u001b[0m\u001b[0;34m\u001b[0m\u001b[0m\n\u001b[1;32m    812\u001b[0m             \u001b[0mc\u001b[0m \u001b[0;34m=\u001b[0m \u001b[0mself\u001b[0m\u001b[0;34m.\u001b[0m\u001b[0mdata\u001b[0m\u001b[0;34m.\u001b[0m\u001b[0mcolumns\u001b[0m\u001b[0;34m[\u001b[0m\u001b[0mc\u001b[0m\u001b[0;34m]\u001b[0m\u001b[0;34m\u001b[0m\u001b[0m\n",
      "\u001b[0;32m~/anaconda3/envs/aind-dog/lib/python3.6/site-packages/pandas/plotting/_core.py\u001b[0m in \u001b[0;36m__init__\u001b[0;34m(self, data, x, y, **kwargs)\u001b[0m\n\u001b[1;32m    782\u001b[0m         \u001b[0;32mif\u001b[0m \u001b[0mis_integer\u001b[0m\u001b[0;34m(\u001b[0m\u001b[0my\u001b[0m\u001b[0;34m)\u001b[0m \u001b[0;32mand\u001b[0m \u001b[0;32mnot\u001b[0m \u001b[0mself\u001b[0m\u001b[0;34m.\u001b[0m\u001b[0mdata\u001b[0m\u001b[0;34m.\u001b[0m\u001b[0mcolumns\u001b[0m\u001b[0;34m.\u001b[0m\u001b[0mholds_integer\u001b[0m\u001b[0;34m(\u001b[0m\u001b[0;34m)\u001b[0m\u001b[0;34m:\u001b[0m\u001b[0;34m\u001b[0m\u001b[0m\n\u001b[1;32m    783\u001b[0m             \u001b[0my\u001b[0m \u001b[0;34m=\u001b[0m \u001b[0mself\u001b[0m\u001b[0;34m.\u001b[0m\u001b[0mdata\u001b[0m\u001b[0;34m.\u001b[0m\u001b[0mcolumns\u001b[0m\u001b[0;34m[\u001b[0m\u001b[0my\u001b[0m\u001b[0;34m]\u001b[0m\u001b[0;34m\u001b[0m\u001b[0m\n\u001b[0;32m--> 784\u001b[0;31m         \u001b[0;32mif\u001b[0m \u001b[0mlen\u001b[0m\u001b[0;34m(\u001b[0m\u001b[0mself\u001b[0m\u001b[0;34m.\u001b[0m\u001b[0mdata\u001b[0m\u001b[0;34m[\u001b[0m\u001b[0mx\u001b[0m\u001b[0;34m]\u001b[0m\u001b[0;34m.\u001b[0m\u001b[0m_get_numeric_data\u001b[0m\u001b[0;34m(\u001b[0m\u001b[0;34m)\u001b[0m\u001b[0;34m)\u001b[0m \u001b[0;34m==\u001b[0m \u001b[0;36m0\u001b[0m\u001b[0;34m:\u001b[0m\u001b[0;34m\u001b[0m\u001b[0m\n\u001b[0m\u001b[1;32m    785\u001b[0m             \u001b[0;32mraise\u001b[0m \u001b[0mValueError\u001b[0m\u001b[0;34m(\u001b[0m\u001b[0mself\u001b[0m\u001b[0;34m.\u001b[0m\u001b[0m_kind\u001b[0m \u001b[0;34m+\u001b[0m \u001b[0;34m' requires x column to be numeric'\u001b[0m\u001b[0;34m)\u001b[0m\u001b[0;34m\u001b[0m\u001b[0m\n\u001b[1;32m    786\u001b[0m         \u001b[0;32mif\u001b[0m \u001b[0mlen\u001b[0m\u001b[0;34m(\u001b[0m\u001b[0mself\u001b[0m\u001b[0;34m.\u001b[0m\u001b[0mdata\u001b[0m\u001b[0;34m[\u001b[0m\u001b[0my\u001b[0m\u001b[0;34m]\u001b[0m\u001b[0;34m.\u001b[0m\u001b[0m_get_numeric_data\u001b[0m\u001b[0;34m(\u001b[0m\u001b[0;34m)\u001b[0m\u001b[0;34m)\u001b[0m \u001b[0;34m==\u001b[0m \u001b[0;36m0\u001b[0m\u001b[0;34m:\u001b[0m\u001b[0;34m\u001b[0m\u001b[0m\n",
      "\u001b[0;32m~/anaconda3/envs/aind-dog/lib/python3.6/site-packages/pandas/core/frame.py\u001b[0m in \u001b[0;36m__getitem__\u001b[0;34m(self, key)\u001b[0m\n\u001b[1;32m   1956\u001b[0m         \u001b[0;32mif\u001b[0m \u001b[0misinstance\u001b[0m\u001b[0;34m(\u001b[0m\u001b[0mkey\u001b[0m\u001b[0;34m,\u001b[0m \u001b[0;34m(\u001b[0m\u001b[0mSeries\u001b[0m\u001b[0;34m,\u001b[0m \u001b[0mnp\u001b[0m\u001b[0;34m.\u001b[0m\u001b[0mndarray\u001b[0m\u001b[0;34m,\u001b[0m \u001b[0mIndex\u001b[0m\u001b[0;34m,\u001b[0m \u001b[0mlist\u001b[0m\u001b[0;34m)\u001b[0m\u001b[0;34m)\u001b[0m\u001b[0;34m:\u001b[0m\u001b[0;34m\u001b[0m\u001b[0m\n\u001b[1;32m   1957\u001b[0m             \u001b[0;31m# either boolean or fancy integer index\u001b[0m\u001b[0;34m\u001b[0m\u001b[0;34m\u001b[0m\u001b[0m\n\u001b[0;32m-> 1958\u001b[0;31m             \u001b[0;32mreturn\u001b[0m \u001b[0mself\u001b[0m\u001b[0;34m.\u001b[0m\u001b[0m_getitem_array\u001b[0m\u001b[0;34m(\u001b[0m\u001b[0mkey\u001b[0m\u001b[0;34m)\u001b[0m\u001b[0;34m\u001b[0m\u001b[0m\n\u001b[0m\u001b[1;32m   1959\u001b[0m         \u001b[0;32melif\u001b[0m \u001b[0misinstance\u001b[0m\u001b[0;34m(\u001b[0m\u001b[0mkey\u001b[0m\u001b[0;34m,\u001b[0m \u001b[0mDataFrame\u001b[0m\u001b[0;34m)\u001b[0m\u001b[0;34m:\u001b[0m\u001b[0;34m\u001b[0m\u001b[0m\n\u001b[1;32m   1960\u001b[0m             \u001b[0;32mreturn\u001b[0m \u001b[0mself\u001b[0m\u001b[0;34m.\u001b[0m\u001b[0m_getitem_frame\u001b[0m\u001b[0;34m(\u001b[0m\u001b[0mkey\u001b[0m\u001b[0;34m)\u001b[0m\u001b[0;34m\u001b[0m\u001b[0m\n",
      "\u001b[0;32m~/anaconda3/envs/aind-dog/lib/python3.6/site-packages/pandas/core/frame.py\u001b[0m in \u001b[0;36m_getitem_array\u001b[0;34m(self, key)\u001b[0m\n\u001b[1;32m   2000\u001b[0m             \u001b[0;32mreturn\u001b[0m \u001b[0mself\u001b[0m\u001b[0;34m.\u001b[0m\u001b[0mtake\u001b[0m\u001b[0;34m(\u001b[0m\u001b[0mindexer\u001b[0m\u001b[0;34m,\u001b[0m \u001b[0maxis\u001b[0m\u001b[0;34m=\u001b[0m\u001b[0;36m0\u001b[0m\u001b[0;34m,\u001b[0m \u001b[0mconvert\u001b[0m\u001b[0;34m=\u001b[0m\u001b[0;32mFalse\u001b[0m\u001b[0;34m)\u001b[0m\u001b[0;34m\u001b[0m\u001b[0m\n\u001b[1;32m   2001\u001b[0m         \u001b[0;32melse\u001b[0m\u001b[0;34m:\u001b[0m\u001b[0;34m\u001b[0m\u001b[0m\n\u001b[0;32m-> 2002\u001b[0;31m             \u001b[0mindexer\u001b[0m \u001b[0;34m=\u001b[0m \u001b[0mself\u001b[0m\u001b[0;34m.\u001b[0m\u001b[0mloc\u001b[0m\u001b[0;34m.\u001b[0m\u001b[0m_convert_to_indexer\u001b[0m\u001b[0;34m(\u001b[0m\u001b[0mkey\u001b[0m\u001b[0;34m,\u001b[0m \u001b[0maxis\u001b[0m\u001b[0;34m=\u001b[0m\u001b[0;36m1\u001b[0m\u001b[0;34m)\u001b[0m\u001b[0;34m\u001b[0m\u001b[0m\n\u001b[0m\u001b[1;32m   2003\u001b[0m             \u001b[0;32mreturn\u001b[0m \u001b[0mself\u001b[0m\u001b[0;34m.\u001b[0m\u001b[0mtake\u001b[0m\u001b[0;34m(\u001b[0m\u001b[0mindexer\u001b[0m\u001b[0;34m,\u001b[0m \u001b[0maxis\u001b[0m\u001b[0;34m=\u001b[0m\u001b[0;36m1\u001b[0m\u001b[0;34m,\u001b[0m \u001b[0mconvert\u001b[0m\u001b[0;34m=\u001b[0m\u001b[0;32mTrue\u001b[0m\u001b[0;34m)\u001b[0m\u001b[0;34m\u001b[0m\u001b[0m\n\u001b[1;32m   2004\u001b[0m \u001b[0;34m\u001b[0m\u001b[0m\n",
      "\u001b[0;32m~/anaconda3/envs/aind-dog/lib/python3.6/site-packages/pandas/core/indexing.py\u001b[0m in \u001b[0;36m_convert_to_indexer\u001b[0;34m(self, obj, axis, is_setter)\u001b[0m\n\u001b[1;32m   1229\u001b[0m                 \u001b[0mmask\u001b[0m \u001b[0;34m=\u001b[0m \u001b[0mcheck\u001b[0m \u001b[0;34m==\u001b[0m \u001b[0;34m-\u001b[0m\u001b[0;36m1\u001b[0m\u001b[0;34m\u001b[0m\u001b[0m\n\u001b[1;32m   1230\u001b[0m                 \u001b[0;32mif\u001b[0m \u001b[0mmask\u001b[0m\u001b[0;34m.\u001b[0m\u001b[0many\u001b[0m\u001b[0;34m(\u001b[0m\u001b[0;34m)\u001b[0m\u001b[0;34m:\u001b[0m\u001b[0;34m\u001b[0m\u001b[0m\n\u001b[0;32m-> 1231\u001b[0;31m                     \u001b[0;32mraise\u001b[0m \u001b[0mKeyError\u001b[0m\u001b[0;34m(\u001b[0m\u001b[0;34m'%s not in index'\u001b[0m \u001b[0;34m%\u001b[0m \u001b[0mobjarr\u001b[0m\u001b[0;34m[\u001b[0m\u001b[0mmask\u001b[0m\u001b[0;34m]\u001b[0m\u001b[0;34m)\u001b[0m\u001b[0;34m\u001b[0m\u001b[0m\n\u001b[0m\u001b[1;32m   1232\u001b[0m \u001b[0;34m\u001b[0m\u001b[0m\n\u001b[1;32m   1233\u001b[0m                 \u001b[0;32mreturn\u001b[0m \u001b[0m_values_from_object\u001b[0m\u001b[0;34m(\u001b[0m\u001b[0mindexer\u001b[0m\u001b[0;34m)\u001b[0m\u001b[0;34m\u001b[0m\u001b[0m\n",
      "\u001b[0;31mKeyError\u001b[0m: '[11  3 12 ..., 12 12  7] not in index'"
     ]
    }
   ],
   "source": [
    "full_train_df.plot.scatter(full_train_df['ps_ind_15'], full_train_df['ps_calc_06'], c=train_df['target'])\n",
    "plt.show()"
   ]
  },
  {
   "cell_type": "markdown",
   "metadata": {},
   "source": [
    "### Preprocessing"
   ]
  },
  {
   "cell_type": "code",
   "execution_count": null,
   "metadata": {
    "collapsed": true
   },
   "outputs": [],
   "source": [
    "full_train_df[preprocess_cols] = StandardScaler().fit_transform(full_train_df[preprocess_cols])"
   ]
  },
  {
   "cell_type": "code",
   "execution_count": 16,
   "metadata": {},
   "outputs": [
    {
     "name": "stdout",
     "output_type": "stream",
     "text": [
      "X_train: (458933, 45)\n",
      "X_test: (119043, 45)\n",
      "y_test: count    119043.000000\n",
      "mean          0.037449\n",
      "std           0.189859\n",
      "min           0.000000\n",
      "25%           0.000000\n",
      "50%           0.000000\n",
      "75%           0.000000\n",
      "max           1.000000\n",
      "Name: target, dtype: float64\n"
     ]
    }
   ],
   "source": [
    "X_train, X_test = train_test_split(full_train_df, test_size=0.2, random_state=123)\n",
    "X_train = X_train[X_train['target'] == 0]\n",
    "X_train = X_train.drop(['target', 'id'], axis=1)\n",
    "\n",
    "y_test = X_test['target']\n",
    "X_test = X_test.drop(['target', 'id'], axis=1)\n",
    "\n",
    "X_train = X_train.values\n",
    "X_test = X_test.values\n",
    "\n",
    "print('X_train: {}'.format(X_train.shape))\n",
    "print('X_test: {}'.format(X_test.shape))\n",
    "print('y_test: {}'.format(y_test.describe()))"
   ]
  },
  {
   "cell_type": "code",
   "execution_count": 58,
   "metadata": {
    "collapsed": true
   },
   "outputs": [],
   "source": [
    "def autoencoder(X, y):\n",
    "    input_shape = X.shape[-1]\n",
    "    input_layer = Input(shape=(input_shape, ))\n",
    "    \n",
    "    encoder = Dense(encoding_dim, activation='tanh')(input_layer)\n",
    "    #encoder = Dense(encoding_dim//2, activation='relu')(encoder)\n",
    "    encoder = Dense(encoding_dim//2, activation='relu')(encoder)\n",
    "    encoder = Dense(encoding_dim, activation='tanh')(encoder)\n",
    "    decoder = Dense(encoding_dim//2, activation='relu')(encoder)\n",
    "    decoder = Dense(encoding_dim, activation='tanh')(decoder)\n",
    "    #decoder = Dense(encoding_dim, activation='tanh')(decoder)\n",
    "    decoder = Dense(input_shape, activation='relu')(encoder)\n",
    "    \n",
    "    ae_model = Model(inputs=input_layer, outputs=decoder)\n",
    "    #adam = optimizers.Adam(lr=0.002)\n",
    "    ae_model.compile(loss='mean_squared_error', optimizer='adam', metric=['accuracy'])\n",
    "    ae_model.summary()\n",
    "    checkpointer = ModelCheckpoint(filepath='autoencoder.encoder.h5', save_best_only=True, verbose=1)\n",
    "    model_history = ae_model.fit(X, X, batch_size=128, epochs=50, verbose=1, validation_data=(y, y),\n",
    "                                 callbacks=[checkpointer]).history\n",
    "    return model_history, encoder"
   ]
  },
  {
   "cell_type": "code",
   "execution_count": 18,
   "metadata": {
    "collapsed": true
   },
   "outputs": [],
   "source": [
    "def plot_model(model_dict):\n",
    "    plt.plot(range(1, len(model_dict['loss']) + 1), model_dict['loss'], label='Training Loss')\n",
    "    plt.plot(range(1, len(model_dict['val_loss']) + 1), model_dict['val_loss'], label='Validation Loss')\n",
    "    plt.title('Model Loss')\n",
    "    plt.ylabel('Loss')\n",
    "    plt.xlabel('Epoch')\n",
    "    plt.legend()\n",
    "    plt.show()"
   ]
  },
  {
   "cell_type": "markdown",
   "metadata": {},
   "source": [
    "## Testing\n",
    "Test the model aganist MNIST"
   ]
  },
  {
   "cell_type": "code",
   "execution_count": 61,
   "metadata": {
    "collapsed": true
   },
   "outputs": [],
   "source": [
    "# Hyperparameters\n",
    "encoding_dim = 64"
   ]
  },
  {
   "cell_type": "code",
   "execution_count": 20,
   "metadata": {},
   "outputs": [],
   "source": [
    "def test_mnist():\n",
    "    (X_train, y_train), (X_test, y_test) = mnist.load_data()\n",
    "    X_train, X_test = X_train/255.0, X_test/255.0\n",
    "    mnist_X_train, mnist_X_test = X_train.reshape(-1, 784), X_test.reshape(-1, 784)\n",
    "    mnist_model = autoencoder(mnist_X_train, mnist_X_test)\n",
    "    plot_model(mnist_model)\n",
    "    model = load_model('autoencoder.mnist.h5')\n",
    "    pred_img = model.predict(mnist_X_test)\n",
    "    X_img, X_pred_img = mnist_X_train[:10], pred_img[:10]\n",
    "    imgs = np.concatenate((X_img, X_pred_img))\n",
    "\n",
    "    fig = plt.figure(figsize=(20,5))\n",
    "    for i in range(20):\n",
    "        ax = fig.add_subplot(2, 10, i + 1, xticks=[], yticks=[])\n",
    "        img = imgs[i].reshape(28, 28)\n",
    "        ax.imshow(np.squeeze(img))\n",
    "    plt.show()"
   ]
  },
  {
   "cell_type": "code",
   "execution_count": 62,
   "metadata": {},
   "outputs": [
    {
     "name": "stdout",
     "output_type": "stream",
     "text": [
      "_________________________________________________________________\n",
      "Layer (type)                 Output Shape              Param #   \n",
      "=================================================================\n",
      "input_7 (InputLayer)         (None, 45)                0         \n",
      "_________________________________________________________________\n",
      "dense_28 (Dense)             (None, 64)                2944      \n",
      "_________________________________________________________________\n",
      "dense_29 (Dense)             (None, 32)                2080      \n",
      "_________________________________________________________________\n",
      "dense_30 (Dense)             (None, 64)                2112      \n",
      "_________________________________________________________________\n",
      "dense_33 (Dense)             (None, 45)                2925      \n",
      "=================================================================\n",
      "Total params: 10,061.0\n",
      "Trainable params: 10,061.0\n",
      "Non-trainable params: 0.0\n",
      "_________________________________________________________________\n",
      "Train on 458933 samples, validate on 119043 samples\n",
      "Epoch 1/50\n"
     ]
    },
    {
     "name": "stderr",
     "output_type": "stream",
     "text": [
      "/home/ksooklall/anaconda3/envs/aind-dog/lib/python3.6/site-packages/keras/backend/tensorflow_backend.py:2094: UserWarning: Expected no kwargs, you passed 1\n",
      "kwargs passed to function are ignored with Tensorflow backend\n",
      "  warnings.warn('\\n'.join(msg))\n"
     ]
    },
    {
     "name": "stdout",
     "output_type": "stream",
     "text": [
      "458880/458933 [============================>.] - ETA: 0s - loss: 0.7129Epoch 00000: val_loss improved from inf to 0.08742, saving model to autoencoder.encoder.h5\n",
      "458933/458933 [==============================] - 11s - loss: 0.7128 - val_loss: 0.0874\n",
      "Epoch 2/50\n",
      "457600/458933 [============================>.] - ETA: 0s - loss: 0.0543Epoch 00001: val_loss improved from 0.08742 to 0.03620, saving model to autoencoder.encoder.h5\n",
      "458933/458933 [==============================] - 9s - loss: 0.0542 - val_loss: 0.0362\n",
      "Epoch 3/50\n",
      "456448/458933 [============================>.] - ETA: 0s - loss: 0.0302Epoch 00002: val_loss improved from 0.03620 to 0.02778, saving model to autoencoder.encoder.h5\n",
      "458933/458933 [==============================] - 9s - loss: 0.0302 - val_loss: 0.0278\n",
      "Epoch 4/50\n",
      "458624/458933 [============================>.] - ETA: 0s - loss: 0.0255Epoch 00003: val_loss improved from 0.02778 to 0.02366, saving model to autoencoder.encoder.h5\n",
      "458933/458933 [==============================] - 9s - loss: 0.0255 - val_loss: 0.0237\n",
      "Epoch 5/50\n",
      "457344/458933 [============================>.] - ETA: 0s - loss: 0.0224Epoch 00004: val_loss improved from 0.02366 to 0.02107, saving model to autoencoder.encoder.h5\n",
      "458933/458933 [==============================] - 10s - loss: 0.0224 - val_loss: 0.0211\n",
      "Epoch 6/50\n",
      "458368/458933 [============================>.] - ETA: 0s - loss: 0.0202Epoch 00005: val_loss improved from 0.02107 to 0.02038, saving model to autoencoder.encoder.h5\n",
      "458933/458933 [==============================] - 10s - loss: 0.0202 - val_loss: 0.0204\n",
      "Epoch 7/50\n",
      "458368/458933 [============================>.] - ETA: 0s - loss: 0.0190Epoch 00006: val_loss improved from 0.02038 to 0.01869, saving model to autoencoder.encoder.h5\n",
      "458933/458933 [==============================] - 10s - loss: 0.0190 - val_loss: 0.0187\n",
      "Epoch 8/50\n",
      "458368/458933 [============================>.] - ETA: 0s - loss: 0.0187Epoch 00007: val_loss improved from 0.01869 to 0.01779, saving model to autoencoder.encoder.h5\n",
      "458933/458933 [==============================] - 10s - loss: 0.0187 - val_loss: 0.0178\n",
      "Epoch 9/50\n",
      "458752/458933 [============================>.] - ETA: 0s - loss: 0.0185Epoch 00008: val_loss did not improve\n",
      "458933/458933 [==============================] - 10s - loss: 0.0185 - val_loss: 0.0184\n",
      "Epoch 10/50\n",
      "457344/458933 [============================>.] - ETA: 0s - loss: 0.0184Epoch 00009: val_loss did not improve\n",
      "458933/458933 [==============================] - 10s - loss: 0.0184 - val_loss: 0.0200\n",
      "Epoch 11/50\n",
      "457472/458933 [============================>.] - ETA: 0s - loss: 0.0183Epoch 00010: val_loss did not improve\n",
      "458933/458933 [==============================] - 10s - loss: 0.0183 - val_loss: 0.0180\n",
      "Epoch 12/50\n",
      "456960/458933 [============================>.] - ETA: 0s - loss: 0.0182Epoch 00011: val_loss improved from 0.01779 to 0.01778, saving model to autoencoder.encoder.h5\n",
      "458933/458933 [==============================] - 10s - loss: 0.0182 - val_loss: 0.0178\n",
      "Epoch 13/50\n",
      "456704/458933 [============================>.] - ETA: 0s - loss: 0.0181Epoch 00012: val_loss did not improve\n",
      "458933/458933 [==============================] - 10s - loss: 0.0181 - val_loss: 0.0182\n",
      "Epoch 14/50\n",
      "457728/458933 [============================>.] - ETA: 0s - loss: 0.0180Epoch 00013: val_loss improved from 0.01778 to 0.01776, saving model to autoencoder.encoder.h5\n",
      "458933/458933 [==============================] - 10s - loss: 0.0180 - val_loss: 0.0178\n",
      "Epoch 15/50\n",
      "457856/458933 [============================>.] - ETA: 0s - loss: 0.0179Epoch 00014: val_loss did not improve\n",
      "458933/458933 [==============================] - 10s - loss: 0.0179 - val_loss: 0.0179\n",
      "Epoch 16/50\n",
      "458752/458933 [============================>.] - ETA: 0s - loss: 0.0178Epoch 00015: val_loss did not improve\n",
      "458933/458933 [==============================] - 10s - loss: 0.0178 - val_loss: 0.0193\n",
      "Epoch 17/50\n",
      "457472/458933 [============================>.] - ETA: 0s - loss: 0.0178Epoch 00016: val_loss did not improve\n",
      "458933/458933 [==============================] - 10s - loss: 0.0178 - val_loss: 0.0180\n",
      "Epoch 18/50\n",
      "458752/458933 [============================>.] - ETA: 0s - loss: 0.0177Epoch 00017: val_loss improved from 0.01776 to 0.01722, saving model to autoencoder.encoder.h5\n",
      "458933/458933 [==============================] - 10s - loss: 0.0177 - val_loss: 0.0172\n",
      "Epoch 19/50\n",
      "456448/458933 [============================>.] - ETA: 0s - loss: 0.0176Epoch 00018: val_loss did not improve\n",
      "458933/458933 [==============================] - 10s - loss: 0.0176 - val_loss: 0.0183\n",
      "Epoch 20/50\n",
      "458624/458933 [============================>.] - ETA: 0s - loss: 0.0172Epoch 00019: val_loss did not improve\n",
      "458933/458933 [==============================] - 11s - loss: 0.0172 - val_loss: 0.0186\n",
      "Epoch 21/50\n",
      "457856/458933 [============================>.] - ETA: 0s - loss: 0.0171Epoch 00020: val_loss did not improve\n",
      "458933/458933 [==============================] - 11s - loss: 0.0171 - val_loss: 0.0174\n",
      "Epoch 22/50\n",
      "458112/458933 [============================>.] - ETA: 0s - loss: 0.0170Epoch 00021: val_loss did not improve\n",
      "458933/458933 [==============================] - 11s - loss: 0.0170 - val_loss: 0.0180\n",
      "Epoch 23/50\n",
      "457856/458933 [============================>.] - ETA: 0s - loss: 0.0170Epoch 00022: val_loss did not improve\n",
      "458933/458933 [==============================] - 11s - loss: 0.0170 - val_loss: 0.0172\n",
      "Epoch 24/50\n",
      "458496/458933 [============================>.] - ETA: 0s - loss: 0.0169Epoch 00023: val_loss improved from 0.01722 to 0.01704, saving model to autoencoder.encoder.h5\n",
      "458933/458933 [==============================] - 11s - loss: 0.0169 - val_loss: 0.0170\n",
      "Epoch 25/50\n",
      "457472/458933 [============================>.] - ETA: 0s - loss: 0.0169Epoch 00024: val_loss did not improve\n",
      "458933/458933 [==============================] - 11s - loss: 0.0169 - val_loss: 0.0182\n",
      "Epoch 26/50\n",
      "458240/458933 [============================>.] - ETA: 0s - loss: 0.0170Epoch 00025: val_loss did not improve\n",
      "458933/458933 [==============================] - 11s - loss: 0.0170 - val_loss: 0.0171\n",
      "Epoch 27/50\n",
      "457856/458933 [============================>.] - ETA: 0s - loss: 0.0168Epoch 00026: val_loss improved from 0.01704 to 0.01704, saving model to autoencoder.encoder.h5\n",
      "458933/458933 [==============================] - 11s - loss: 0.0168 - val_loss: 0.0170\n",
      "Epoch 28/50\n",
      "457216/458933 [============================>.] - ETA: 0s - loss: 0.0167Epoch 00027: val_loss improved from 0.01704 to 0.01668, saving model to autoencoder.encoder.h5\n",
      "458933/458933 [==============================] - 11s - loss: 0.0167 - val_loss: 0.0167\n",
      "Epoch 29/50\n",
      "457728/458933 [============================>.] - ETA: 0s - loss: 0.0166Epoch 00028: val_loss did not improve\n",
      "458933/458933 [==============================] - 11s - loss: 0.0166 - val_loss: 0.0194\n",
      "Epoch 30/50\n",
      "456576/458933 [============================>.] - ETA: 0s - loss: 0.0165Epoch 00029: val_loss improved from 0.01668 to 0.01624, saving model to autoencoder.encoder.h5\n",
      "458933/458933 [==============================] - 11s - loss: 0.0165 - val_loss: 0.0162\n",
      "Epoch 31/50\n",
      "458880/458933 [============================>.] - ETA: 0s - loss: 0.0164Epoch 00030: val_loss improved from 0.01624 to 0.01606, saving model to autoencoder.encoder.h5\n",
      "458933/458933 [==============================] - 11s - loss: 0.0164 - val_loss: 0.0161\n",
      "Epoch 32/50\n",
      "457344/458933 [============================>.] - ETA: 0s - loss: 0.0163Epoch 00031: val_loss did not improve\n",
      "458933/458933 [==============================] - 11s - loss: 0.0163 - val_loss: 0.0161\n",
      "Epoch 33/50\n",
      "457344/458933 [============================>.] - ETA: 0s - loss: 0.0163Epoch 00032: val_loss did not improve\n",
      "458933/458933 [==============================] - 10s - loss: 0.0163 - val_loss: 0.0161\n",
      "Epoch 34/50\n",
      "456960/458933 [============================>.] - ETA: 0s - loss: 0.0162Epoch 00033: val_loss improved from 0.01606 to 0.01569, saving model to autoencoder.encoder.h5\n",
      "458933/458933 [==============================] - 10s - loss: 0.0162 - val_loss: 0.0157\n",
      "Epoch 35/50\n",
      "458112/458933 [============================>.] - ETA: 0s - loss: 0.0162Epoch 00034: val_loss did not improve\n"
     ]
    },
    {
     "name": "stdout",
     "output_type": "stream",
     "text": [
      "458933/458933 [==============================] - 10s - loss: 0.0162 - val_loss: 0.0160\n",
      "Epoch 36/50\n",
      "458240/458933 [============================>.] - ETA: 0s - loss: 0.0161Epoch 00035: val_loss did not improve\n",
      "458933/458933 [==============================] - 10s - loss: 0.0161 - val_loss: 0.0161\n",
      "Epoch 37/50\n",
      "458752/458933 [============================>.] - ETA: 0s - loss: 0.0161Epoch 00036: val_loss did not improve\n",
      "458933/458933 [==============================] - 11s - loss: 0.0161 - val_loss: 0.0159\n",
      "Epoch 38/50\n",
      "458112/458933 [============================>.] - ETA: 0s - loss: 0.0160Epoch 00037: val_loss improved from 0.01569 to 0.01556, saving model to autoencoder.encoder.h5\n",
      "458933/458933 [==============================] - 10s - loss: 0.0160 - val_loss: 0.0156\n",
      "Epoch 39/50\n",
      "457600/458933 [============================>.] - ETA: 0s - loss: 0.0160Epoch 00038: val_loss did not improve\n",
      "458933/458933 [==============================] - 10s - loss: 0.0160 - val_loss: 0.0164\n",
      "Epoch 40/50\n",
      "458496/458933 [============================>.] - ETA: 0s - loss: 0.0160Epoch 00039: val_loss did not improve\n",
      "458933/458933 [==============================] - 10s - loss: 0.0160 - val_loss: 0.0159\n",
      "Epoch 41/50\n",
      "456704/458933 [============================>.] - ETA: 0s - loss: 0.0160Epoch 00040: val_loss did not improve\n",
      "458933/458933 [==============================] - 10s - loss: 0.0159 - val_loss: 0.0168\n",
      "Epoch 42/50\n",
      "457088/458933 [============================>.] - ETA: 0s - loss: 0.0159Epoch 00041: val_loss did not improve\n",
      "458933/458933 [==============================] - 11s - loss: 0.0159 - val_loss: 0.0160\n",
      "Epoch 43/50\n",
      "458752/458933 [============================>.] - ETA: 0s - loss: 0.0159Epoch 00042: val_loss did not improve\n",
      "458933/458933 [==============================] - 11s - loss: 0.0159 - val_loss: 0.0160\n",
      "Epoch 44/50\n",
      "457856/458933 [============================>.] - ETA: 0s - loss: 0.0159Epoch 00043: val_loss did not improve\n",
      "458933/458933 [==============================] - 11s - loss: 0.0159 - val_loss: 0.0157\n",
      "Epoch 45/50\n",
      "458624/458933 [============================>.] - ETA: 0s - loss: 0.0159Epoch 00044: val_loss did not improve\n",
      "458933/458933 [==============================] - 11s - loss: 0.0159 - val_loss: 0.0156\n",
      "Epoch 46/50\n",
      "457472/458933 [============================>.] - ETA: 0s - loss: 0.0156Epoch 00045: val_loss did not improve\n",
      "458933/458933 [==============================] - 11s - loss: 0.0156 - val_loss: 0.0165\n",
      "Epoch 47/50\n",
      "458240/458933 [============================>.] - ETA: 0s - loss: 0.0152Epoch 00046: val_loss improved from 0.01556 to 0.01532, saving model to autoencoder.encoder.h5\n",
      "458933/458933 [==============================] - 11s - loss: 0.0152 - val_loss: 0.0153\n",
      "Epoch 48/50\n",
      "458880/458933 [============================>.] - ETA: 0s - loss: 0.0150Epoch 00047: val_loss improved from 0.01532 to 0.01509, saving model to autoencoder.encoder.h5\n",
      "458933/458933 [==============================] - 11s - loss: 0.0150 - val_loss: 0.0151\n",
      "Epoch 49/50\n",
      "456960/458933 [============================>.] - ETA: 0s - loss: 0.0148Epoch 00048: val_loss improved from 0.01509 to 0.01497, saving model to autoencoder.encoder.h5\n",
      "458933/458933 [==============================] - 11s - loss: 0.0148 - val_loss: 0.0150\n",
      "Epoch 50/50\n",
      "457344/458933 [============================>.] - ETA: 0s - loss: 0.0148Epoch 00049: val_loss improved from 0.01497 to 0.01436, saving model to autoencoder.encoder.h5\n",
      "458933/458933 [==============================] - 11s - loss: 0.0148 - val_loss: 0.0144\n"
     ]
    },
    {
     "data": {
      "image/png": "[encoded data removed]",
      "text/plain": [
       "<matplotlib.figure.Figure at 0x7ff519607898>"
      ]
     },
     "metadata": {},
     "output_type": "display_data"
    }
   ],
   "source": [
    "model_dict, encoder = autoencoder(X_train, X_test)\n",
    "plot_model(model_dict)"
   ]
  },
  {
   "cell_type": "code",
   "execution_count": 115,
   "metadata": {
    "collapsed": true
   },
   "outputs": [],
   "source": [
    "model = load_model('autoencoder.encoder.h5')"
   ]
  },
  {
   "cell_type": "code",
   "execution_count": 116,
   "metadata": {},
   "outputs": [
    {
     "name": "stdout",
     "output_type": "stream",
     "text": [
      "_________________________________________________________________\n",
      "Layer (type)                 Output Shape              Param #   \n",
      "=================================================================\n",
      "input_7 (InputLayer)         (None, 45)                0         \n",
      "_________________________________________________________________\n",
      "dense_28 (Dense)             (None, 64)                2944      \n",
      "_________________________________________________________________\n",
      "dense_29 (Dense)             (None, 32)                2080      \n",
      "=================================================================\n",
      "Total params: 5,024.0\n",
      "Trainable params: 5,024.0\n",
      "Non-trainable params: 0.0\n",
      "_________________________________________________________________\n"
     ]
    }
   ],
   "source": [
    "model.layers.pop()\n",
    "model.layers.pop()\n",
    "model.summary()"
   ]
  },
  {
   "cell_type": "code",
   "execution_count": 123,
   "metadata": {},
   "outputs": [
    {
     "name": "stdout",
     "output_type": "stream",
     "text": [
      "_________________________________________________________________\n",
      "Layer (type)                 Output Shape              Param #   \n",
      "=================================================================\n",
      "input_7 (InputLayer)         (None, 45)                0         \n",
      "_________________________________________________________________\n",
      "dense_28 (Dense)             (None, 64)                2944      \n",
      "_________________________________________________________________\n",
      "dense_29 (Dense)             (None, 32)                2080      \n",
      "_________________________________________________________________\n",
      "dense_46 (Dense)             (None, 1)                 33        \n",
      "=================================================================\n",
      "Total params: 5,057.0\n",
      "Trainable params: 5,057.0\n",
      "Non-trainable params: 0.0\n",
      "_________________________________________________________________\n"
     ]
    },
    {
     "name": "stderr",
     "output_type": "stream",
     "text": [
      "/home/ksooklall/anaconda3/envs/aind-dog/lib/python3.6/site-packages/ipykernel_launcher.py:2: UserWarning: Update your `Model` call to the Keras 2 API: `Model(inputs=Tensor(\"in..., outputs=[<tf.Tenso...)`\n",
      "  \n"
     ]
    }
   ],
   "source": [
    "output = Dense(1, activation='sigmoid')(model.layers[-1].output)\n",
    "model2 = Model(input=model.input, output=[output])\n",
    "model2.summary()"
   ]
  },
  {
   "cell_type": "code",
   "execution_count": 124,
   "metadata": {
    "collapsed": true
   },
   "outputs": [],
   "source": [
    "aa = model2.predict(X_train)"
   ]
  },
  {
   "cell_type": "code",
   "execution_count": 48,
   "metadata": {
    "collapsed": true
   },
   "outputs": [],
   "source": [
    "def sigmoid(y):\n",
    "    return 1 / (1 + np.exp(-y))"
   ]
  },
  {
   "cell_type": "code",
   "execution_count": 49,
   "metadata": {
    "collapsed": true
   },
   "outputs": [],
   "source": [
    "def mean_sq_error(pred, true):\n",
    "    return np.mean(np.power(pred-true, 2), axis=1)"
   ]
  },
  {
   "cell_type": "code",
   "execution_count": 50,
   "metadata": {
    "collapsed": true
   },
   "outputs": [],
   "source": [
    "pred = model.predict(X_test)"
   ]
  },
  {
   "cell_type": "code",
   "execution_count": 51,
   "metadata": {
    "collapsed": true
   },
   "outputs": [],
   "source": [
    "mse = np.mean(np.power(X_test - pred, 2), axis=1)"
   ]
  },
  {
   "cell_type": "code",
   "execution_count": 52,
   "metadata": {},
   "outputs": [
    {
     "data": {
      "text/html": [
       "<div>\n",
       "<style>\n",
       "    .dataframe thead tr:only-child th {\n",
       "        text-align: right;\n",
       "    }\n",
       "\n",
       "    .dataframe thead th {\n",
       "        text-align: left;\n",
       "    }\n",
       "\n",
       "    .dataframe tbody tr th {\n",
       "        vertical-align: top;\n",
       "    }\n",
       "</style>\n",
       "<table border=\"1\" class=\"dataframe\">\n",
       "  <thead>\n",
       "    <tr style=\"text-align: right;\">\n",
       "      <th></th>\n",
       "      <th>psudo_error</th>\n",
       "      <th>true_class</th>\n",
       "    </tr>\n",
       "  </thead>\n",
       "  <tbody>\n",
       "    <tr>\n",
       "      <th>count</th>\n",
       "      <td>119043.000000</td>\n",
       "      <td>119043.000000</td>\n",
       "    </tr>\n",
       "    <tr>\n",
       "      <th>mean</th>\n",
       "      <td>0.016093</td>\n",
       "      <td>0.037449</td>\n",
       "    </tr>\n",
       "    <tr>\n",
       "      <th>std</th>\n",
       "      <td>0.014553</td>\n",
       "      <td>0.189859</td>\n",
       "    </tr>\n",
       "    <tr>\n",
       "      <th>min</th>\n",
       "      <td>0.000581</td>\n",
       "      <td>0.000000</td>\n",
       "    </tr>\n",
       "    <tr>\n",
       "      <th>25%</th>\n",
       "      <td>0.005938</td>\n",
       "      <td>0.000000</td>\n",
       "    </tr>\n",
       "    <tr>\n",
       "      <th>50%</th>\n",
       "      <td>0.009357</td>\n",
       "      <td>0.000000</td>\n",
       "    </tr>\n",
       "    <tr>\n",
       "      <th>75%</th>\n",
       "      <td>0.027529</td>\n",
       "      <td>0.000000</td>\n",
       "    </tr>\n",
       "    <tr>\n",
       "      <th>max</th>\n",
       "      <td>0.401973</td>\n",
       "      <td>1.000000</td>\n",
       "    </tr>\n",
       "  </tbody>\n",
       "</table>\n",
       "</div>"
      ],
      "text/plain": [
       "         psudo_error     true_class\n",
       "count  119043.000000  119043.000000\n",
       "mean        0.016093       0.037449\n",
       "std         0.014553       0.189859\n",
       "min         0.000581       0.000000\n",
       "25%         0.005938       0.000000\n",
       "50%         0.009357       0.000000\n",
       "75%         0.027529       0.000000\n",
       "max         0.401973       1.000000"
      ]
     },
     "execution_count": 52,
     "metadata": {},
     "output_type": "execute_result"
    }
   ],
   "source": [
    "error_df = pd.DataFrame({'psudo_error': mse, 'true_class': y_test})\n",
    "error_df.describe()"
   ]
  },
  {
   "cell_type": "code",
   "execution_count": 53,
   "metadata": {},
   "outputs": [
    {
     "data": {
      "text/plain": [
       "0.21475105550460336"
      ]
     },
     "execution_count": 53,
     "metadata": {},
     "output_type": "execute_result"
    }
   ],
   "source": [
    "upper_bound = np.mean((error_df['psudo_error'].describe().loc['75%'], error_df['psudo_error'].describe().loc['max']))\n",
    "upper_bound"
   ]
  },
  {
   "cell_type": "code",
   "execution_count": 54,
   "metadata": {},
   "outputs": [
    {
     "data": {
      "image/png": "[encoded data removed]",
      "text/plain": [
       "<matplotlib.figure.Figure at 0x7ff524c6b438>"
      ]
     },
     "metadata": {},
     "output_type": "display_data"
    }
   ],
   "source": [
    "fig, ax = plt.subplots(figsize=(10,5))\n",
    "normal_error_df = error_df[(error_df['true_class'] == 0)&(error_df['psudo_error']<upper_bound)]\n",
    "ax.hist(normal_error_df['psudo_error'].values, bins=20)\n",
    "plt.show()"
   ]
  },
  {
   "cell_type": "code",
   "execution_count": 55,
   "metadata": {
    "collapsed": true
   },
   "outputs": [],
   "source": [
    "from sklearn.metrics import (confusion_matrix, precision_recall_curve, auc,\n",
    "                             roc_curve, recall_score, classification_report, f1_score,\n",
    "                             precision_recall_fscore_support)"
   ]
  },
  {
   "cell_type": "code",
   "execution_count": 56,
   "metadata": {
    "collapsed": true
   },
   "outputs": [],
   "source": [
    "fpr, tpr, thresholds = roc_curve(error_df['true_class'], error_df['psudo_error'])"
   ]
  },
  {
   "cell_type": "code",
   "execution_count": 57,
   "metadata": {},
   "outputs": [
    {
     "data": {
      "image/png": "[encoded data removed]",
      "text/plain": [
       "<matplotlib.figure.Figure at 0x7ff524c64dd8>"
      ]
     },
     "metadata": {},
     "output_type": "display_data"
    }
   ],
   "source": [
    "roc_auc = auc(fpr, tpr)\n",
    "\n",
    "plt.title('Receiver Operating Characteristic')\n",
    "plt.plot(fpr, tpr, label='AUC = %0.4f'% roc_auc)\n",
    "plt.legend(loc='lower right')\n",
    "plt.plot([0,1],[0,1],'r--')\n",
    "plt.xlim([-0.001, 1])\n",
    "plt.ylim([0, 1.001])\n",
    "plt.ylabel('True Positive Rate')\n",
    "plt.xlabel('False Positive Rate')\n",
    "plt.show();"
   ]
  },
  {
   "cell_type": "code",
   "execution_count": null,
   "metadata": {},
   "outputs": [],
   "source": [
    "precision, recall, th = precision_recall_curve(error_df['true_class'], error_df['psudo_error'])\n",
    "plt.plot(recall, precision, 'b', label='Precision-Recall curve')\n",
    "plt.title('Recall vs Precision')\n",
    "plt.xlabel('Recall')\n",
    "plt.ylabel('Precision')\n",
    "plt.show()"
   ]
  },
  {
   "cell_type": "code",
   "execution_count": null,
   "metadata": {},
   "outputs": [],
   "source": [
    "plt.plot(th, precision[1:], 'b', label='Threshold-Precision curve')\n",
    "plt.title('Precision for different threshold values')\n",
    "plt.xlabel('Threshold')\n",
    "plt.ylabel('Precision')\n",
    "plt.show()"
   ]
  },
  {
   "cell_type": "code",
   "execution_count": null,
   "metadata": {},
   "outputs": [],
   "source": [
    "plt.plot(th, recall[1:], 'b', label='Threshold-Recall curve')\n",
    "plt.title('Recall for different threshold values')\n",
    "plt.xlabel('Reconstruction error')\n",
    "plt.ylabel('Recall')\n",
    "plt.show()"
   ]
  },
  {
   "cell_type": "code",
   "execution_count": null,
   "metadata": {
    "collapsed": true
   },
   "outputs": [],
   "source": [
    "groups = error_df.groupby('true_class')"
   ]
  },
  {
   "cell_type": "code",
   "execution_count": null,
   "metadata": {
    "collapsed": true
   },
   "outputs": [],
   "source": [
    "threshold = 0.18"
   ]
  },
  {
   "cell_type": "code",
   "execution_count": null,
   "metadata": {},
   "outputs": [],
   "source": [
    "fig, ax = plt.subplots(figsize=(15,10))\n",
    "\n",
    "for name, group in groups:\n",
    "    ax.plot(group.index, group['psudo_error'], marker='o', ms=3.5, linestyle='', label='Claimed' if name == 1 else 'Unclaimed')\n",
    "    ax.hlines(threshold, ax.get_xlim()[0], ax.get_xlim()[1], colors='r', label='Threshold')\n",
    "    ax.legend()\n",
    "plt.title(\"Reconstruction error for different classes\")\n",
    "plt.ylabel(\"Reconstruction error\")\n",
    "plt.xlabel(\"Data point index\")\n",
    "plt.show();"
   ]
  },
  {
   "cell_type": "code",
   "execution_count": null,
   "metadata": {
    "collapsed": true
   },
   "outputs": [],
   "source": [
    "y_pred = error_df['psudo_error'].map(lambda x: 1 if x > threshold else 0)"
   ]
  },
  {
   "cell_type": "code",
   "execution_count": null,
   "metadata": {
    "collapsed": true
   },
   "outputs": [],
   "source": [
    "import seaborn as sns"
   ]
  },
  {
   "cell_type": "code",
   "execution_count": null,
   "metadata": {},
   "outputs": [],
   "source": [
    "conf_matrix = confusion_matrix(error_df['true_class'], y_pred)\n",
    "\n",
    "plt.figure(figsize=(10, 10))\n",
    "sns.heatmap(conf_matrix, xticklabels=['Claimed', 'Unclaimed'], yticklabels=['Claimed', 'Unclaimed'], annot=True, fmt=\"d\")\n",
    "plt.title(\"Confusion matrix\")\n",
    "plt.ylabel('True class')\n",
    "plt.xlabel('Predicted class')\n",
    "plt.show()           "
   ]
  },
  {
   "cell_type": "code",
   "execution_count": null,
   "metadata": {
    "collapsed": true
   },
   "outputs": [],
   "source": [
    "x_test = np.array(StandardScaler().fit_transform(test_df[preprocess_cols]))"
   ]
  },
  {
   "cell_type": "code",
   "execution_count": null,
   "metadata": {},
   "outputs": [],
   "source": [
    "x_test.shape"
   ]
  },
  {
   "cell_type": "code",
   "execution_count": null,
   "metadata": {
    "collapsed": true
   },
   "outputs": [],
   "source": [
    "y_pred = model.predict(x_test)"
   ]
  },
  {
   "cell_type": "code",
   "execution_count": null,
   "metadata": {},
   "outputs": [],
   "source": [
    "y_submit = np.mean(y_pred, axis=1)\n",
    "y_submit.shape"
   ]
  },
  {
   "cell_type": "code",
   "execution_count": null,
   "metadata": {
    "collapsed": true
   },
   "outputs": [],
   "source": [
    "def sigmoid(y):\n",
    "  return 1 / (1 + np.exp(-y))"
   ]
  },
  {
   "cell_type": "code",
   "execution_count": null,
   "metadata": {},
   "outputs": [],
   "source": [
    "y_df = 1 - pd.Series(y_submit).map(sigmoid)\n",
    "y_df.describe()"
   ]
  },
  {
   "cell_type": "code",
   "execution_count": null,
   "metadata": {
    "collapsed": true
   },
   "outputs": [],
   "source": [
    "submission = pd.DataFrame({'id': test_df['id'], 'target': y_df.values})\n",
    "submission.to_csv('submissions/submission_{}.csv'.format(13), index=False)"
   ]
  },
  {
   "cell_type": "code",
   "execution_count": null,
   "metadata": {
    "collapsed": true
   },
   "outputs": [],
   "source": []
  }
 ],
 "metadata": {
  "kernelspec": {
   "display_name": "Python 3",
   "language": "python",
   "name": "python3"
  },
  "language_info": {
   "codemirror_mode": {
    "name": "ipython",
    "version": 3
   },
   "file_extension": ".py",
   "mimetype": "text/x-python",
   "name": "python",
   "nbconvert_exporter": "python",
   "pygments_lexer": "ipython3",
   "version": "3.6.1"
  }
 },
 "nbformat": 4,
 "nbformat_minor": 2
}
